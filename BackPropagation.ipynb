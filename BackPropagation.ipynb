{
 "cells": [
  {
   "cell_type": "code",
   "execution_count": 14,
   "metadata": {
    "collapsed": true
   },
   "outputs": [
    {
     "name": "stdout",
     "output_type": "stream",
     "text": [
      "Input : \n",
      "[[0.66666667 1.        ]\n",
      " [0.33333333 0.55555556]\n",
      " [1.         0.66666667]]\n",
      "Actual Output : \n",
      "[[0.92]\n",
      " [0.86]\n",
      " [0.89]]\n",
      "Predicted : \n",
      " [[0.91991652]\n",
      " [0.86002521]\n",
      " [0.89003376]]\n"
     ]
    }
   ],
   "source": [
    "import numpy as np\n",
    "X = np.array(([2, 9], [1, 5], [3, 6]), dtype=float)\n",
    "Y = np.array(([92], [86], [89]), dtype=float)\n",
    "X = X / np.amax(X, axis=0)\n",
    "Y = Y / 100\n",
    "\n",
    "def sigmoid(x):\n",
    "    return 1 / (1 + np.exp(-x))\n",
    "\n",
    "def derivativeSigmoid(x):\n",
    "    return x * (1 - x)\n",
    "\n",
    "epoch = 500000\n",
    "inputNeuron = 2\n",
    "hiddenNeuron = 3\n",
    "outputNeuron = 1\n",
    "learnRate = 0.1\n",
    "\n",
    "weight = np.random.uniform(size=(inputNeuron, hiddenNeuron))\n",
    "bias = np.random.uniform(size=(1, hiddenNeuron))\n",
    "weightOut = np.random.uniform(size=(hiddenNeuron, outputNeuron))\n",
    "biasOut = np.random.uniform(size=(1, outputNeuron))\n",
    "\n",
    "for i in range(epoch):\n",
    "    hInput1 = np.dot(X, weight)\n",
    "    hInput = hInput1 + bias\n",
    "    hLayerAct = sigmoid(hInput)\n",
    "    outInput1 = np.dot(hLayerAct, weightOut)\n",
    "    outInput = outInput1 + biasOut\n",
    "    output = sigmoid(outInput)\n",
    "\n",
    "    E0 = Y - output\n",
    "    outGrad = derivativeSigmoid(output)\n",
    "    dOutput = E0 * outGrad\n",
    "\n",
    "    EH = dOutput.dot(weightOut.T)\n",
    "    hiddenGrad = derivativeSigmoid(hLayerAct)\n",
    "    dHiddenLayer = EH * hiddenGrad\n",
    "\n",
    "    weightOut += hLayerAct.T.dot(dOutput) * learnRate\n",
    "    weight += X.T.dot(dHiddenLayer) * learnRate\n",
    "\n",
    "print(\"Input : \\n\" + str(X))\n",
    "print(\"Actual Output : \\n\" + str(Y))\n",
    "print(\"Predicted : \\n\" , output)"
   ]
  },
  {
   "cell_type": "code",
   "execution_count": null,
   "outputs": [],
   "source": [],
   "metadata": {
    "collapsed": false
   }
  }
 ],
 "metadata": {
  "kernelspec": {
   "display_name": "Python 3",
   "language": "python",
   "name": "python3"
  },
  "language_info": {
   "codemirror_mode": {
    "name": "ipython",
    "version": 2
   },
   "file_extension": ".py",
   "mimetype": "text/x-python",
   "name": "python",
   "nbconvert_exporter": "python",
   "pygments_lexer": "ipython2",
   "version": "2.7.6"
  }
 },
 "nbformat": 4,
 "nbformat_minor": 0
}
