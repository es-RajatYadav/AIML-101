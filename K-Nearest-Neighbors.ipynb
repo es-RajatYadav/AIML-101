{
 "cells": [
  {
   "cell_type": "code",
   "execution_count": 1,
   "metadata": {
    "collapsed": true
   },
   "outputs": [],
   "source": [
    "from sklearn.model_selection import train_test_split\n",
    "from sklearn.neighbors import KNeighborsClassifier\n",
    "from sklearn.datasets import load_iris"
   ]
  },
  {
   "cell_type": "code",
   "execution_count": 3,
   "outputs": [
    {
     "name": "stdout",
     "output_type": "stream",
     "text": [
      "Label 0 : setosa\n",
      "Label 1 : versicolor\n",
      "Label 2 : virginica\n"
     ]
    },
    {
     "data": {
      "text/plain": "KNeighborsClassifier(n_neighbors=2)"
     },
     "execution_count": 3,
     "metadata": {},
     "output_type": "execute_result"
    }
   ],
   "source": [
    "iris = load_iris()\n",
    "xTrain, xTest, yTrain, yTest = train_test_split(iris.data, iris.target,test_size=0.2 , random_state=0)\n",
    "for i in range(len(iris.target_names)):\n",
    "    print(\"Label {} : {}\".format(i, str(iris.target_names[i])))\n",
    "kNNClassifier = KNeighborsClassifier(n_neighbors=2)\n",
    "kNNClassifier.fit(xTrain, yTrain)"
   ],
   "metadata": {
    "collapsed": false
   }
  },
  {
   "cell_type": "code",
   "execution_count": 4,
   "outputs": [
    {
     "name": "stdout",
     "output_type": "stream",
     "text": [
      "Sample : [5.8 2.8 5.1 2.4] || Actual : 2 || Predicted : [2 1 0 2 0 2 0 1 1 1 1 1 1 1 1 0 1 1 0 0 2 1 0 0 2 0 0 1 1 0]\n",
      "Sample : [6.  2.2 4.  1. ] || Actual : 1 || Predicted : [2 1 0 2 0 2 0 1 1 1 1 1 1 1 1 0 1 1 0 0 2 1 0 0 2 0 0 1 1 0]\n",
      "Sample : [5.5 4.2 1.4 0.2] || Actual : 0 || Predicted : [2 1 0 2 0 2 0 1 1 1 1 1 1 1 1 0 1 1 0 0 2 1 0 0 2 0 0 1 1 0]\n",
      "Sample : [7.3 2.9 6.3 1.8] || Actual : 2 || Predicted : [2 1 0 2 0 2 0 1 1 1 1 1 1 1 1 0 1 1 0 0 2 1 0 0 2 0 0 1 1 0]\n",
      "Sample : [5.  3.4 1.5 0.2] || Actual : 0 || Predicted : [2 1 0 2 0 2 0 1 1 1 1 1 1 1 1 0 1 1 0 0 2 1 0 0 2 0 0 1 1 0]\n",
      "Sample : [6.3 3.3 6.  2.5] || Actual : 2 || Predicted : [2 1 0 2 0 2 0 1 1 1 1 1 1 1 1 0 1 1 0 0 2 1 0 0 2 0 0 1 1 0]\n",
      "Sample : [5.  3.5 1.3 0.3] || Actual : 0 || Predicted : [2 1 0 2 0 2 0 1 1 1 1 1 1 1 1 0 1 1 0 0 2 1 0 0 2 0 0 1 1 0]\n",
      "Sample : [6.7 3.1 4.7 1.5] || Actual : 1 || Predicted : [2 1 0 2 0 2 0 1 1 1 1 1 1 1 1 0 1 1 0 0 2 1 0 0 2 0 0 1 1 0]\n",
      "Sample : [6.8 2.8 4.8 1.4] || Actual : 1 || Predicted : [2 1 0 2 0 2 0 1 1 1 1 1 1 1 1 0 1 1 0 0 2 1 0 0 2 0 0 1 1 0]\n",
      "Sample : [6.1 2.8 4.  1.3] || Actual : 1 || Predicted : [2 1 0 2 0 2 0 1 1 1 1 1 1 1 1 0 1 1 0 0 2 1 0 0 2 0 0 1 1 0]\n",
      "Sample : [6.1 2.6 5.6 1.4] || Actual : 2 || Predicted : [2 1 0 2 0 2 0 1 1 1 1 1 1 1 1 0 1 1 0 0 2 1 0 0 2 0 0 1 1 0]\n",
      "Sample : [6.4 3.2 4.5 1.5] || Actual : 1 || Predicted : [2 1 0 2 0 2 0 1 1 1 1 1 1 1 1 0 1 1 0 0 2 1 0 0 2 0 0 1 1 0]\n",
      "Sample : [6.1 2.8 4.7 1.2] || Actual : 1 || Predicted : [2 1 0 2 0 2 0 1 1 1 1 1 1 1 1 0 1 1 0 0 2 1 0 0 2 0 0 1 1 0]\n",
      "Sample : [6.5 2.8 4.6 1.5] || Actual : 1 || Predicted : [2 1 0 2 0 2 0 1 1 1 1 1 1 1 1 0 1 1 0 0 2 1 0 0 2 0 0 1 1 0]\n",
      "Sample : [6.1 2.9 4.7 1.4] || Actual : 1 || Predicted : [2 1 0 2 0 2 0 1 1 1 1 1 1 1 1 0 1 1 0 0 2 1 0 0 2 0 0 1 1 0]\n",
      "Sample : [4.9 3.6 1.4 0.1] || Actual : 0 || Predicted : [2 1 0 2 0 2 0 1 1 1 1 1 1 1 1 0 1 1 0 0 2 1 0 0 2 0 0 1 1 0]\n",
      "Sample : [6.  2.9 4.5 1.5] || Actual : 1 || Predicted : [2 1 0 2 0 2 0 1 1 1 1 1 1 1 1 0 1 1 0 0 2 1 0 0 2 0 0 1 1 0]\n",
      "Sample : [5.5 2.6 4.4 1.2] || Actual : 1 || Predicted : [2 1 0 2 0 2 0 1 1 1 1 1 1 1 1 0 1 1 0 0 2 1 0 0 2 0 0 1 1 0]\n",
      "Sample : [4.8 3.  1.4 0.3] || Actual : 0 || Predicted : [2 1 0 2 0 2 0 1 1 1 1 1 1 1 1 0 1 1 0 0 2 1 0 0 2 0 0 1 1 0]\n",
      "Sample : [5.4 3.9 1.3 0.4] || Actual : 0 || Predicted : [2 1 0 2 0 2 0 1 1 1 1 1 1 1 1 0 1 1 0 0 2 1 0 0 2 0 0 1 1 0]\n",
      "Sample : [5.6 2.8 4.9 2. ] || Actual : 2 || Predicted : [2 1 0 2 0 2 0 1 1 1 1 1 1 1 1 0 1 1 0 0 2 1 0 0 2 0 0 1 1 0]\n",
      "Sample : [5.6 3.  4.5 1.5] || Actual : 1 || Predicted : [2 1 0 2 0 2 0 1 1 1 1 1 1 1 1 0 1 1 0 0 2 1 0 0 2 0 0 1 1 0]\n",
      "Sample : [4.8 3.4 1.9 0.2] || Actual : 0 || Predicted : [2 1 0 2 0 2 0 1 1 1 1 1 1 1 1 0 1 1 0 0 2 1 0 0 2 0 0 1 1 0]\n",
      "Sample : [4.4 2.9 1.4 0.2] || Actual : 0 || Predicted : [2 1 0 2 0 2 0 1 1 1 1 1 1 1 1 0 1 1 0 0 2 1 0 0 2 0 0 1 1 0]\n",
      "Sample : [6.2 2.8 4.8 1.8] || Actual : 2 || Predicted : [2 1 0 2 0 2 0 1 1 1 1 1 1 1 1 0 1 1 0 0 2 1 0 0 2 0 0 1 1 0]\n",
      "Sample : [4.6 3.6 1.  0.2] || Actual : 0 || Predicted : [2 1 0 2 0 2 0 1 1 1 1 1 1 1 1 0 1 1 0 0 2 1 0 0 2 0 0 1 1 0]\n",
      "Sample : [5.1 3.8 1.9 0.4] || Actual : 0 || Predicted : [2 1 0 2 0 2 0 1 1 1 1 1 1 1 1 0 1 1 0 0 2 1 0 0 2 0 0 1 1 0]\n",
      "Sample : [6.2 2.9 4.3 1.3] || Actual : 1 || Predicted : [2 1 0 2 0 2 0 1 1 1 1 1 1 1 1 0 1 1 0 0 2 1 0 0 2 0 0 1 1 0]\n",
      "Sample : [5.  2.3 3.3 1. ] || Actual : 1 || Predicted : [2 1 0 2 0 2 0 1 1 1 1 1 1 1 1 0 1 1 0 0 2 1 0 0 2 0 0 1 1 0]\n",
      "Sample : [5.  3.4 1.6 0.4] || Actual : 0 || Predicted : [2 1 0 2 0 2 0 1 1 1 1 1 1 1 1 0 1 1 0 0 2 1 0 0 2 0 0 1 1 0]\n",
      "0.9666666666666667\n"
     ]
    },
    {
     "name": "stderr",
     "output_type": "stream",
     "text": [
      "/Users/nyx/opt/anaconda3/lib/python3.9/site-packages/sklearn/neighbors/_classification.py:228: FutureWarning: Unlike other reduction functions (e.g. `skew`, `kurtosis`), the default behavior of `mode` typically preserves the axis it acts along. In SciPy 1.11.0, this behavior will change: the default value of `keepdims` will become False, the `axis` over which the statistic is taken will be eliminated, and the value None will no longer be accepted. Set `keepdims` to True or False to avoid this warning.\n",
      "  mode, _ = stats.mode(_y[neigh_ind, k], axis=1)\n",
      "/Users/nyx/opt/anaconda3/lib/python3.9/site-packages/sklearn/neighbors/_classification.py:228: FutureWarning: Unlike other reduction functions (e.g. `skew`, `kurtosis`), the default behavior of `mode` typically preserves the axis it acts along. In SciPy 1.11.0, this behavior will change: the default value of `keepdims` will become False, the `axis` over which the statistic is taken will be eliminated, and the value None will no longer be accepted. Set `keepdims` to True or False to avoid this warning.\n",
      "  mode, _ = stats.mode(_y[neigh_ind, k], axis=1)\n"
     ]
    }
   ],
   "source": [
    "yPredict = kNNClassifier.predict(xTest)\n",
    "for r in range(len(xTest)):\n",
    "    print(\"Sample : {} || Actual : {} || Predicted : {}\".format(str(xTest[r]), str(yTest[r]), str(yPredict)))\n",
    "print(kNNClassifier.score(xTest, yTest))"
   ],
   "metadata": {
    "collapsed": false
   }
  },
  {
   "cell_type": "code",
   "execution_count": null,
   "outputs": [],
   "source": [],
   "metadata": {
    "collapsed": false
   }
  }
 ],
 "metadata": {
  "kernelspec": {
   "display_name": "Python 3",
   "language": "python",
   "name": "python3"
  },
  "language_info": {
   "codemirror_mode": {
    "name": "ipython",
    "version": 2
   },
   "file_extension": ".py",
   "mimetype": "text/x-python",
   "name": "python",
   "nbconvert_exporter": "python",
   "pygments_lexer": "ipython2",
   "version": "2.7.6"
  }
 },
 "nbformat": 4,
 "nbformat_minor": 0
}
