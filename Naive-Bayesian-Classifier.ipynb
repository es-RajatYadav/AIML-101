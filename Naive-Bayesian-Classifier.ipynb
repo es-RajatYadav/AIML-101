{
 "cells": [
  {
   "cell_type": "code",
   "execution_count": 10,
   "outputs": [],
   "source": [
    "from sklearn.metrics import recall_score, precision_score, confusion_matrix, accuracy_score\n",
    "from sklearn.naive_bayes import MultinomialNB\n",
    "from sklearn.model_selection import train_test_split\n",
    "from sklearn.feature_extraction.text import CountVectorizer\n",
    "import pandas as pd"
   ],
   "metadata": {
    "collapsed": false
   }
  },
  {
   "cell_type": "code",
   "execution_count": 11,
   "outputs": [
    {
     "name": "stdout",
     "output_type": "stream",
     "text": [
      "Total Instances : 18\n"
     ]
    }
   ],
   "source": [
    "message = pd.read_csv('sand.csv', names=['message', 'label'])\n",
    "print(\"Total Instances : {}\".format(message.shape[0]))\n",
    "message['label'] = message.label.map({'pos': 1, 'neg': 0})"
   ],
   "metadata": {
    "collapsed": false
   }
  },
  {
   "cell_type": "code",
   "execution_count": 12,
   "outputs": [],
   "source": [
    "X = message.message\n",
    "Y = message.label\n",
    "xTrain, xTest, yTrain, yTest = train_test_split(X, Y)"
   ],
   "metadata": {
    "collapsed": false
   }
  },
  {
   "cell_type": "code",
   "execution_count": 13,
   "outputs": [],
   "source": [
    "countV = CountVectorizer()\n",
    "modXTrain = countV.fit_transform(xTrain)\n",
    "modXTest = countV.transform(xTest)"
   ],
   "metadata": {
    "collapsed": false
   }
  },
  {
   "cell_type": "code",
   "execution_count": 14,
   "outputs": [
    {
     "name": "stdout",
     "output_type": "stream",
     "text": [
      "   about  am  an  and  awesome  bad  beers  best  boss  can  ...  this  tired  \\\n",
      "0      0   0   1    0        1    0      0     0     0    0  ...     0      0   \n",
      "1      0   0   0    0        0    0      0     0     0    0  ...     0      0   \n",
      "2      0   1   0    1        0    0      0     0     0    0  ...     1      1   \n",
      "3      0   0   0    0        0    0      0     0     0    0  ...     0      0   \n",
      "4      0   0   0    0        0    0      0     0     0    0  ...     0      0   \n",
      "\n",
      "   to  today  very  view  went  what  with  work  \n",
      "0   0      0     0     1     0     1     0     0  \n",
      "1   1      0     0     0     0     0     0     0  \n",
      "2   0      0     0     0     0     0     0     0  \n",
      "3   1      1     0     0     1     0     0     0  \n",
      "4   0      0     0     0     0     1     0     0  \n",
      "\n",
      "[5 rows x 46 columns]\n"
     ]
    }
   ],
   "source": [
    "df = pd.DataFrame(modXTrain.toarray(), columns=countV.get_feature_names_out())\n",
    "print(df[:5])"
   ],
   "metadata": {
    "collapsed": false
   }
  },
  {
   "cell_type": "code",
   "execution_count": 15,
   "outputs": [],
   "source": [
    "classifier = MultinomialNB()\n",
    "classifier.fit(modXTrain, yTrain)\n",
    "yPred = classifier.predict(modXTest)"
   ],
   "metadata": {
    "collapsed": false
   }
  },
  {
   "cell_type": "code",
   "execution_count": 16,
   "outputs": [
    {
     "name": "stdout",
     "output_type": "stream",
     "text": [
      "What an awesome view -> -ve\n",
      "I love to dance -> -ve\n",
      "I am sick and tired of this place -> +ve\n",
      "I went to my enemy's house today -> +ve\n",
      "What a great holiday -> +ve\n"
     ]
    }
   ],
   "source": [
    "for doc, p in zip(xTrain, yPred):\n",
    "    p = '+ve' if p == 1 else '-ve'\n",
    "    print(\"{} -> {}\".format(doc, p))"
   ],
   "metadata": {
    "collapsed": false
   }
  },
  {
   "cell_type": "code",
   "execution_count": 19,
   "outputs": [
    {
     "name": "stdout",
     "output_type": "stream",
     "text": [
      "Accuracy Score : \n",
      "Accuracy : 1.0\n",
      "Recall : 1.0\n",
      "Precision : 1.0\n",
      "Confusion Matrix : \n",
      " [[2 0]\n",
      " [0 3]]\n"
     ]
    }
   ],
   "source": [
    "print(\"Accuracy Score : \")\n",
    "print(\"Accuracy : {}\".format(accuracy_score(yTest, yPred)))\n",
    "print(\"Recall : {}\".format(recall_score(yTest, yPred)))\n",
    "print(\"Precision : {}\".format(precision_score(yTest, yPred)))\n",
    "print(\"Confusion Matrix : \\n {}\".format(confusion_matrix(yTest, yPred)))"
   ],
   "metadata": {
    "collapsed": false
   }
  }
 ],
 "metadata": {
  "kernelspec": {
   "display_name": "Python 3",
   "language": "python",
   "name": "python3"
  },
  "language_info": {
   "codemirror_mode": {
    "name": "ipython",
    "version": 2
   },
   "file_extension": ".py",
   "mimetype": "text/x-python",
   "name": "python",
   "nbconvert_exporter": "python",
   "pygments_lexer": "ipython2",
   "version": "2.7.6"
  }
 },
 "nbformat": 4,
 "nbformat_minor": 0
}
