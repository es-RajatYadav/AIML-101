{
 "cells": [
  {
   "cell_type": "code",
   "execution_count": 58,
   "metadata": {
    "collapsed": true
   },
   "outputs": [],
   "source": [
    "import pandas as pd\n",
    "from sklearn.model_selection import train_test_split\n",
    "from sklearn.feature_extraction.text import CountVectorizer\n",
    "from sklearn.naive_bayes import MultinomialNB\n",
    "from sklearn.metrics import accuracy_score, confusion_matrix, precision_score, recall_score"
   ]
  },
  {
   "cell_type": "code",
   "execution_count": 59,
   "outputs": [
    {
     "name": "stdout",
     "output_type": "stream",
     "text": [
      "Total Instances of Dataset : 18\n"
     ]
    }
   ],
   "source": [
    "message = pd.read_csv('sand.csv', names=['message', 'label'])\n",
    "print(\"Total Instances of Dataset : {}\".format(message.shape[0]))\n",
    "message['labelNum'] = message.label.map({'pos' : 1, 'neg' : 0})"
   ],
   "metadata": {
    "collapsed": false
   }
  },
  {
   "cell_type": "code",
   "execution_count": 60,
   "outputs": [],
   "source": [
    "X = message.message\n",
    "Y = message.labelNum\n",
    "xTrain, xTest, yTrain, yTest = train_test_split(X, Y)"
   ],
   "metadata": {
    "collapsed": false
   }
  },
  {
   "cell_type": "code",
   "execution_count": 61,
   "outputs": [],
   "source": [
    "countV = CountVectorizer()\n",
    "xTrainDM = countV.fit_transform(xTrain)\n",
    "xTestDM = countV.transform(xTest)"
   ],
   "metadata": {
    "collapsed": false
   }
  },
  {
   "cell_type": "code",
   "execution_count": 62,
   "outputs": [
    {
     "name": "stdout",
     "output_type": "stream",
     "text": [
      "   about  am  amazing  an  awesome  bad  beers  best  can  dance  ...  that  \\\n",
      "0      0   0        0   0        0    0      0     0    0      0  ...     0   \n",
      "1      0   0        0   0        0    0      0     0    1      0  ...     0   \n",
      "2      0   0        0   1        1    0      0     0    0      0  ...     0   \n",
      "3      0   1        0   0        0    0      0     0    0      0  ...     0   \n",
      "4      1   0        0   0        0    0      1     0    0      0  ...     0   \n",
      "\n",
      "   these  this  tired  to  very  view  what  with  work  \n",
      "0      0     1      0   0     0     0     0     0     0  \n",
      "1      0     1      0   0     0     0     0     1     0  \n",
      "2      0     0      0   0     0     1     1     0     0  \n",
      "3      0     1      1   0     0     0     0     0     0  \n",
      "4      1     0      0   0     1     0     0     0     0  \n",
      "\n",
      "[5 rows x 41 columns]\n"
     ]
    }
   ],
   "source": [
    "df = pd.DataFrame(xTrainDM.toarray(), columns=countV.get_feature_names_out())\n",
    "print(df[0:5])"
   ],
   "metadata": {
    "collapsed": false
   }
  },
  {
   "cell_type": "code",
   "execution_count": 63,
   "outputs": [],
   "source": [
    "classifier = MultinomialNB()\n",
    "classifier.fit(xTrainDM, yTrain)\n",
    "yPred = classifier.predict(xTestDM)"
   ],
   "metadata": {
    "collapsed": false
   }
  },
  {
   "cell_type": "code",
   "execution_count": 64,
   "outputs": [
    {
     "name": "stdout",
     "output_type": "stream",
     "text": [
      "I do not like this restaurant -> +ve\n",
      "I can't deal with this -> -ve\n",
      "What an awesome view -> -ve\n",
      "I am tired of this stuff -> -ve\n",
      "I feel very good about these beers -> +ve\n"
     ]
    }
   ],
   "source": [
    "for doc, p in zip(xTrain, yPred):\n",
    "    p = '+ve' if p == 1 else '-ve'\n",
    "    print(\"{} -> {}\".format(doc, p))"
   ],
   "metadata": {
    "collapsed": false
   }
  },
  {
   "cell_type": "code",
   "execution_count": 65,
   "outputs": [
    {
     "name": "stdout",
     "output_type": "stream",
     "text": [
      "Accuracy Metrics : \n",
      "Accuracy : 0.8\n",
      "Recall : 1.0\n",
      "Precision : 0.5\n",
      "Confusion : \n",
      "[[3 1]\n",
      " [0 1]]\n"
     ]
    }
   ],
   "source": [
    "print(\"Accuracy Metrics : \")\n",
    "print(\"Accuracy : {}\".format(accuracy_score(yTest, yPred)))\n",
    "print(\"Recall : {}\".format(recall_score(yTest, yPred)))\n",
    "print(\"Precision : {}\".format(precision_score(yTest, yPred)))\n",
    "print(\"Confusion : \\n{}\".format(confusion_matrix(yTest, yPred)))"
   ],
   "metadata": {
    "collapsed": false
   }
  },
  {
   "cell_type": "code",
   "execution_count": null,
   "outputs": [],
   "source": [],
   "metadata": {
    "collapsed": false
   }
  }
 ],
 "metadata": {
  "kernelspec": {
   "display_name": "Python 3",
   "language": "python",
   "name": "python3"
  },
  "language_info": {
   "codemirror_mode": {
    "name": "ipython",
    "version": 2
   },
   "file_extension": ".py",
   "mimetype": "text/x-python",
   "name": "python",
   "nbconvert_exporter": "python",
   "pygments_lexer": "ipython2",
   "version": "2.7.6"
  }
 },
 "nbformat": 4,
 "nbformat_minor": 0
}
